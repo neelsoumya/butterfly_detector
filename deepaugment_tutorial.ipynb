{
  "nbformat": 4,
  "nbformat_minor": 0,
  "metadata": {
    "colab": {
      "name": "deepaugment-tutorial.ipynb",
      "version": "0.3.2",
      "provenance": [],
      "include_colab_link": true
    },
    "kernelspec": {
      "name": "python3",
      "display_name": "Python 3"
    },
    "accelerator": "TPU"
  },
  "cells": [
    {
      "cell_type": "markdown",
      "metadata": {
        "id": "view-in-github",
        "colab_type": "text"
      },
      "source": [
        "<a href=\"https://colab.research.google.com/github/neelsoumya/butterfly_detector/blob/master/deepaugment_tutorial.ipynb\" target=\"_parent\"><img src=\"https://colab.research.google.com/assets/colab-badge.svg\" alt=\"Open In Colab\"/></a>"
      ]
    },
    {
      "metadata": {
        "id": "_swghddpWWZW",
        "colab_type": "text"
      },
      "cell_type": "markdown",
      "source": [
        "# Tutorial for DeepAugment\n",
        "\n",
        "- Github: https://github.com/barisozmen/deepaugment\n",
        "- Slides: https://bit.ly/deepaugmentslides\n",
        "- PyPI: https://pypi.org/project/deepaugment/\n",
        "\n",
        "\n",
        "In this tutorial, we will:\n",
        "1. Install\n",
        "2. Import\n",
        "3. Setup and configure\n",
        "4. Optimizer augmentations\n",
        "5. Print found augmentation policies\n",
        "6. Create image-generator using augmentation policies\n",
        "7. Use the image-generator on a full-model\n",
        "\n",
        "**Important Note:** This notebook is only for showing usage of the library. Configurations are made as running the notebook will take 10-20 minutes (using TPU). Therefore this is not a proper analysis with useful results. A proper analysis would take 5-10 hours. For a proper analysis, change configurations as following:\n",
        "* **child_epochs:** +100 (Section 3)\n",
        "* **optimizer iterations:** +100 (Section 4)\n",
        "* **model:** wrn_28_10 or InceptionV3 (Section 7)\n",
        "\n",
        "See [slides](http://bit.ly/deepaugmentslides) for results with CIFAR-10 and iNaturalist images, where DeepAugment was ran for +4 hours on AWS p3.x2large instance\n",
        "\n",
        "### Contact\n",
        "Baris Ozmen, hbaristr@gmail.com"
      ]
    },
    {
      "metadata": {
        "id": "XVrOyXbuWa-z",
        "colab_type": "text"
      },
      "cell_type": "markdown",
      "source": [
        "## 1. Install"
      ]
    },
    {
      "metadata": {
        "id": "pGFSPL5nL7tx",
        "colab_type": "code",
        "outputId": "05e50e98-4a39-4fe1-df7f-2a0d2d0b9b06",
        "colab": {
          "base_uri": "https://localhost:8080/",
          "height": 1602
        }
      },
      "cell_type": "code",
      "source": [
        "!pip install deepaugment"
      ],
      "execution_count": 0,
      "outputs": [
        {
          "output_type": "stream",
          "text": [
            "Collecting deepaugment\n",
            "  Downloading https://files.pythonhosted.org/packages/99/f9/40211d827039df475091639c6aded9a1786849f898b9c619e24c15efc82a/deepaugment-1.1.2-py2.py3-none-any.whl\n",
            "Collecting scikit-optimize==0.5.2 (from deepaugment)\n",
            "\u001b[?25l  Downloading https://files.pythonhosted.org/packages/f4/44/60f82c97d1caa98752c7da2c1681cab5c7a390a0fdd3a55fac672b321cac/scikit_optimize-0.5.2-py2.py3-none-any.whl (74kB)\n",
            "\u001b[K    100% |████████████████████████████████| 81kB 7.3MB/s \n",
            "\u001b[?25hCollecting keras-applications==1.0.6 (from deepaugment)\n",
            "\u001b[?25l  Downloading https://files.pythonhosted.org/packages/3f/c4/2ff40221029f7098d58f8d7fb99b97e8100f3293f9856f0fb5834bef100b/Keras_Applications-1.0.6-py2.py3-none-any.whl (44kB)\n",
            "\u001b[K    100% |████████████████████████████████| 51kB 20.5MB/s \n",
            "\u001b[?25hCollecting pandas==0.23.4 (from deepaugment)\n",
            "\u001b[?25l  Downloading https://files.pythonhosted.org/packages/e1/d8/feeb346d41f181e83fba45224ab14a8d8af019b48af742e047f3845d8cff/pandas-0.23.4-cp36-cp36m-manylinux1_x86_64.whl (8.9MB)\n",
            "\u001b[K    100% |████████████████████████████████| 8.9MB 3.2MB/s \n",
            "\u001b[?25hRequirement already satisfied: click==7.0 in /usr/local/lib/python3.6/dist-packages (from deepaugment) (7.0)\n",
            "Collecting numpy==1.15.4 (from deepaugment)\n",
            "\u001b[?25l  Downloading https://files.pythonhosted.org/packages/ff/7f/9d804d2348471c67a7d8b5f84f9bc59fd1cefa148986f2b74552f8573555/numpy-1.15.4-cp36-cp36m-manylinux1_x86_64.whl (13.9MB)\n",
            "\u001b[K    100% |████████████████████████████████| 13.9MB 2.8MB/s \n",
            "\u001b[?25hCollecting tensorflow==1.12.0 (from deepaugment)\n",
            "\u001b[?25l  Downloading https://files.pythonhosted.org/packages/22/cc/ca70b78087015d21c5f3f93694107f34ebccb3be9624385a911d4b52ecef/tensorflow-1.12.0-cp36-cp36m-manylinux1_x86_64.whl (83.1MB)\n",
            "\u001b[K    100% |████████████████████████████████| 83.1MB 373kB/s \n",
            "\u001b[?25hCollecting imgaug==0.2.7 (from deepaugment)\n",
            "\u001b[?25l  Downloading https://files.pythonhosted.org/packages/af/fc/c56a7da8c23122b7c5325b941850013880a7a93c21dc95e2b1ecd4750108/imgaug-0.2.7-py3-none-any.whl (644kB)\n",
            "\u001b[K    100% |████████████████████████████████| 645kB 17.8MB/s \n",
            "\u001b[?25hRequirement already satisfied: keras==2.2.4 in /usr/local/lib/python3.6/dist-packages (from deepaugment) (2.2.4)\n",
            "Requirement already satisfied: opencv-contrib-python in /usr/local/lib/python3.6/dist-packages (from deepaugment) (3.4.3.18)\n",
            "Collecting matplotlib==3.0.2 (from deepaugment)\n",
            "\u001b[?25l  Downloading https://files.pythonhosted.org/packages/71/07/16d781df15be30df4acfd536c479268f1208b2dfbc91e9ca5d92c9caf673/matplotlib-3.0.2-cp36-cp36m-manylinux1_x86_64.whl (12.9MB)\n",
            "\u001b[K    100% |████████████████████████████████| 12.9MB 3.9MB/s \n",
            "\u001b[?25hCollecting setuptools==40.6.3 (from deepaugment)\n",
            "\u001b[?25l  Downloading https://files.pythonhosted.org/packages/37/06/754589caf971b0d2d48f151c2586f62902d93dc908e2fd9b9b9f6aa3c9dd/setuptools-40.6.3-py2.py3-none-any.whl (573kB)\n",
            "\u001b[K    100% |████████████████████████████████| 573kB 21.0MB/s \n",
            "\u001b[?25hRequirement already satisfied: scikit-learn>=0.19.1 in /usr/local/lib/python3.6/dist-packages (from scikit-optimize==0.5.2->deepaugment) (0.20.3)\n",
            "Requirement already satisfied: scipy>=0.14.0 in /usr/local/lib/python3.6/dist-packages (from scikit-optimize==0.5.2->deepaugment) (1.1.0)\n",
            "Requirement already satisfied: h5py in /usr/local/lib/python3.6/dist-packages (from keras-applications==1.0.6->deepaugment) (2.8.0)\n",
            "Requirement already satisfied: pytz>=2011k in /usr/local/lib/python3.6/dist-packages (from pandas==0.23.4->deepaugment) (2018.9)\n",
            "Requirement already satisfied: python-dateutil>=2.5.0 in /usr/local/lib/python3.6/dist-packages (from pandas==0.23.4->deepaugment) (2.5.3)\n",
            "Requirement already satisfied: grpcio>=1.8.6 in /usr/local/lib/python3.6/dist-packages (from tensorflow==1.12.0->deepaugment) (1.15.0)\n",
            "Requirement already satisfied: termcolor>=1.1.0 in /usr/local/lib/python3.6/dist-packages (from tensorflow==1.12.0->deepaugment) (1.1.0)\n",
            "Requirement already satisfied: six>=1.10.0 in /usr/local/lib/python3.6/dist-packages (from tensorflow==1.12.0->deepaugment) (1.11.0)\n",
            "Requirement already satisfied: protobuf>=3.6.1 in /usr/local/lib/python3.6/dist-packages (from tensorflow==1.12.0->deepaugment) (3.6.1)\n",
            "Requirement already satisfied: absl-py>=0.1.6 in /usr/local/lib/python3.6/dist-packages (from tensorflow==1.12.0->deepaugment) (0.7.0)\n",
            "Collecting tensorboard<1.13.0,>=1.12.0 (from tensorflow==1.12.0->deepaugment)\n",
            "\u001b[?25l  Downloading https://files.pythonhosted.org/packages/07/53/8d32ce9471c18f8d99028b7cef2e5b39ea8765bd7ef250ca05b490880971/tensorboard-1.12.2-py3-none-any.whl (3.0MB)\n",
            "\u001b[K    100% |████████████████████████████████| 3.1MB 10.7MB/s \n",
            "\u001b[?25hRequirement already satisfied: gast>=0.2.0 in /usr/local/lib/python3.6/dist-packages (from tensorflow==1.12.0->deepaugment) (0.2.2)\n",
            "Requirement already satisfied: astor>=0.6.0 in /usr/local/lib/python3.6/dist-packages (from tensorflow==1.12.0->deepaugment) (0.7.1)\n",
            "Requirement already satisfied: keras-preprocessing>=1.0.5 in /usr/local/lib/python3.6/dist-packages (from tensorflow==1.12.0->deepaugment) (1.0.9)\n",
            "Requirement already satisfied: wheel>=0.26 in /usr/local/lib/python3.6/dist-packages (from tensorflow==1.12.0->deepaugment) (0.33.1)\n",
            "Requirement already satisfied: Pillow in /usr/local/lib/python3.6/dist-packages (from imgaug==0.2.7->deepaugment) (4.1.1)\n",
            "Requirement already satisfied: imageio in /usr/local/lib/python3.6/dist-packages (from imgaug==0.2.7->deepaugment) (2.4.1)\n",
            "Requirement already satisfied: scikit-image>=0.11.0 in /usr/local/lib/python3.6/dist-packages (from imgaug==0.2.7->deepaugment) (0.13.1)\n",
            "Requirement already satisfied: Shapely in /usr/local/lib/python3.6/dist-packages (from imgaug==0.2.7->deepaugment) (1.6.4.post2)\n",
            "Requirement already satisfied: pyyaml in /usr/local/lib/python3.6/dist-packages (from keras==2.2.4->deepaugment) (3.13)\n",
            "Requirement already satisfied: cycler>=0.10 in /usr/local/lib/python3.6/dist-packages (from matplotlib==3.0.2->deepaugment) (0.10.0)\n",
            "Requirement already satisfied: kiwisolver>=1.0.1 in /usr/local/lib/python3.6/dist-packages (from matplotlib==3.0.2->deepaugment) (1.0.1)\n",
            "Requirement already satisfied: pyparsing!=2.0.4,!=2.1.2,!=2.1.6,>=2.0.1 in /usr/local/lib/python3.6/dist-packages (from matplotlib==3.0.2->deepaugment) (2.3.1)\n",
            "Requirement already satisfied: markdown>=2.6.8 in /usr/local/lib/python3.6/dist-packages (from tensorboard<1.13.0,>=1.12.0->tensorflow==1.12.0->deepaugment) (3.0.1)\n",
            "Requirement already satisfied: werkzeug>=0.11.10 in /usr/local/lib/python3.6/dist-packages (from tensorboard<1.13.0,>=1.12.0->tensorflow==1.12.0->deepaugment) (0.14.1)\n",
            "Requirement already satisfied: olefile in /usr/local/lib/python3.6/dist-packages (from Pillow->imgaug==0.2.7->deepaugment) (0.46)\n",
            "Requirement already satisfied: PyWavelets>=0.4.0 in /usr/local/lib/python3.6/dist-packages (from scikit-image>=0.11.0->imgaug==0.2.7->deepaugment) (1.0.2)\n",
            "Requirement already satisfied: networkx>=1.8 in /usr/local/lib/python3.6/dist-packages (from scikit-image>=0.11.0->imgaug==0.2.7->deepaugment) (2.2)\n",
            "Requirement already satisfied: decorator>=4.3.0 in /usr/local/lib/python3.6/dist-packages (from networkx>=1.8->scikit-image>=0.11.0->imgaug==0.2.7->deepaugment) (4.3.2)\n",
            "\u001b[31malbumentations 0.1.12 has requirement imgaug<0.2.7,>=0.2.5, but you'll have imgaug 0.2.7 which is incompatible.\u001b[0m\n",
            "Installing collected packages: numpy, scikit-optimize, keras-applications, pandas, tensorboard, tensorflow, matplotlib, imgaug, setuptools, deepaugment\n",
            "  Found existing installation: numpy 1.14.6\n",
            "    Uninstalling numpy-1.14.6:\n",
            "      Successfully uninstalled numpy-1.14.6\n",
            "  Found existing installation: Keras-Applications 1.0.7\n",
            "    Uninstalling Keras-Applications-1.0.7:\n",
            "      Successfully uninstalled Keras-Applications-1.0.7\n",
            "  Found existing installation: pandas 0.22.0\n",
            "    Uninstalling pandas-0.22.0:\n",
            "      Successfully uninstalled pandas-0.22.0\n",
            "  Found existing installation: tensorboard 1.13.0\n",
            "    Uninstalling tensorboard-1.13.0:\n",
            "      Successfully uninstalled tensorboard-1.13.0\n",
            "  Found existing installation: tensorflow 1.13.1\n",
            "    Uninstalling tensorflow-1.13.1:\n",
            "      Successfully uninstalled tensorflow-1.13.1\n",
            "  Found existing installation: matplotlib 3.0.3\n",
            "    Uninstalling matplotlib-3.0.3:\n",
            "      Successfully uninstalled matplotlib-3.0.3\n",
            "  Found existing installation: imgaug 0.2.8\n",
            "    Uninstalling imgaug-0.2.8:\n",
            "      Successfully uninstalled imgaug-0.2.8\n",
            "  Found existing installation: setuptools 40.8.0\n",
            "    Uninstalling setuptools-40.8.0:\n",
            "      Successfully uninstalled setuptools-40.8.0\n",
            "Successfully installed deepaugment-1.1.2 imgaug-0.2.7 keras-applications-1.0.6 matplotlib-3.0.2 numpy-1.15.4 pandas-0.23.4 scikit-optimize-0.5.2 setuptools-40.6.3 tensorboard-1.12.2 tensorflow-1.12.0\n"
          ],
          "name": "stdout"
        },
        {
          "output_type": "display_data",
          "data": {
            "application/vnd.colab-display-data+json": {
              "pip_warning": {
                "packages": [
                  "matplotlib",
                  "mpl_toolkits",
                  "numpy",
                  "pandas",
                  "pkg_resources"
                ]
              }
            }
          },
          "metadata": {
            "tags": []
          }
        }
      ]
    },
    {
      "metadata": {
        "id": "wcFwYhfgbdwm",
        "colab_type": "text"
      },
      "cell_type": "markdown",
      "source": [
        "### Installed version"
      ]
    },
    {
      "metadata": {
        "id": "mcyxiMV1bAG3",
        "colab_type": "code",
        "outputId": "0a5f4c58-d884-4925-f440-50ca0bd229e9",
        "colab": {
          "base_uri": "https://localhost:8080/",
          "height": 34
        }
      },
      "cell_type": "code",
      "source": [
        "!pip freeze | grep deepaugment"
      ],
      "execution_count": 0,
      "outputs": [
        {
          "output_type": "stream",
          "text": [
            "deepaugment==1.1.2\n"
          ],
          "name": "stdout"
        }
      ]
    },
    {
      "metadata": {
        "id": "g_7Q3BEMWc37",
        "colab_type": "text"
      },
      "cell_type": "markdown",
      "source": [
        "## 2.Import"
      ]
    },
    {
      "metadata": {
        "id": "SuhR6Q3AMFy3",
        "colab_type": "code",
        "outputId": "3ad22205-a267-4f12-e196-1a30abaae8d6",
        "colab": {
          "base_uri": "https://localhost:8080/",
          "height": 34
        }
      },
      "cell_type": "code",
      "source": [
        "from deepaugment.deepaugment import DeepAugment"
      ],
      "execution_count": 0,
      "outputs": [
        {
          "output_type": "stream",
          "text": [
            "Using TensorFlow backend.\n"
          ],
          "name": "stderr"
        }
      ]
    },
    {
      "metadata": {
        "id": "PBX825tRWfOw",
        "colab_type": "text"
      },
      "cell_type": "markdown",
      "source": [
        "## 3. A simple setup of DeepAugment\n",
        "\n",
        "Number of child epochs are set as 10 in order to make a quick run. For a thorough analysis, set `child_epochs` >=50"
      ]
    },
    {
      "metadata": {
        "id": "hKGEC6g4s1bH",
        "colab_type": "code",
        "outputId": "1df3d07b-8707-4b2f-b3eb-ceb82780a9df",
        "colab": {
          "base_uri": "https://localhost:8080/",
          "height": 1006
        }
      },
      "cell_type": "code",
      "source": [
        "from keras.datasets import cifar10\n",
        "\n",
        "(x_train, y_train), (x_test, y_test) = cifar10.load_data()\n",
        "\n",
        "# child_epochs set to 10 for a quick run, but it should be >=50 for a proper analysis\n",
        "my_config = {\n",
        "    \"child_epochs\":2,\n",
        "    \"opt_samples\":1\n",
        "}\n",
        "\n",
        "# X_train.shape -> (N, M, M, 3)\n",
        "# y_train.shape -> (N)\n",
        "deepaug = DeepAugment(images=x_train, labels=y_train, config=my_config)"
      ],
      "execution_count": 0,
      "outputs": [
        {
          "output_type": "stream",
          "text": [
            "Downloading data from https://www.cs.toronto.edu/~kriz/cifar-10-python.tar.gz\n",
            "170500096/170498071 [==============================] - 18s 0us/step\n",
            "Using 2000 training images\n",
            "BasicCNN model built as child model.\n",
            " Model summary:\n",
            "_________________________________________________________________\n",
            "Layer (type)                 Output Shape              Param #   \n",
            "=================================================================\n",
            "conv2d_1 (Conv2D)            (None, 32, 32, 32)        896       \n",
            "_________________________________________________________________\n",
            "activation_1 (Activation)    (None, 32, 32, 32)        0         \n",
            "_________________________________________________________________\n",
            "conv2d_2 (Conv2D)            (None, 30, 30, 32)        9248      \n",
            "_________________________________________________________________\n",
            "activation_2 (Activation)    (None, 30, 30, 32)        0         \n",
            "_________________________________________________________________\n",
            "max_pooling2d_1 (MaxPooling2 (None, 15, 15, 32)        0         \n",
            "_________________________________________________________________\n",
            "dropout_1 (Dropout)          (None, 15, 15, 32)        0         \n",
            "_________________________________________________________________\n",
            "conv2d_3 (Conv2D)            (None, 15, 15, 64)        18496     \n",
            "_________________________________________________________________\n",
            "activation_3 (Activation)    (None, 15, 15, 64)        0         \n",
            "_________________________________________________________________\n",
            "conv2d_4 (Conv2D)            (None, 13, 13, 64)        36928     \n",
            "_________________________________________________________________\n",
            "activation_4 (Activation)    (None, 13, 13, 64)        0         \n",
            "_________________________________________________________________\n",
            "max_pooling2d_2 (MaxPooling2 (None, 6, 6, 64)          0         \n",
            "_________________________________________________________________\n",
            "dropout_2 (Dropout)          (None, 6, 6, 64)          0         \n",
            "_________________________________________________________________\n",
            "flatten_1 (Flatten)          (None, 2304)              0         \n",
            "_________________________________________________________________\n",
            "dense_1 (Dense)              (None, 512)               1180160   \n",
            "_________________________________________________________________\n",
            "activation_5 (Activation)    (None, 512)               0         \n",
            "_________________________________________________________________\n",
            "dropout_3 (Dropout)          (None, 512)               0         \n",
            "_________________________________________________________________\n",
            "dense_2 (Dense)              (None, 10)                5130      \n",
            "_________________________________________________________________\n",
            "activation_6 (Activation)    (None, 10)                0         \n",
            "=================================================================\n",
            "Total params: 1,250,858\n",
            "Trainable params: 1,250,858\n",
            "Non-trainable params: 0\n",
            "_________________________________________________________________\n",
            "None\n",
            "load_pre_augment_weights()'s runtime:  0.0489 sec.\n",
            "Train on 12000 samples, validate on 1000 samples\n",
            "Epoch 1/2\n",
            " - 77s - loss: 2.1119 - acc: 0.2152 - val_loss: 1.7976 - val_acc: 0.3560\n",
            "Epoch 2/2\n",
            " - 77s - loss: 1.7684 - acc: 0.3591 - val_loss: 1.6196 - val_acc: 0.4290\n",
            "fit()'s runtime:  153.8346 sec.\n",
            "0, 0.6075000002384185, ['rotate', 0.0, 'rotate', 0.0, 'rotate', 0.0, 'rotate', 0.0, 'rotate', 0.0, 'rotate', 0.0, 'rotate', 0.0, 'rotate', 0.0, 'rotate', 0.0, 'rotate', 0.0]\n"
          ],
          "name": "stdout"
        }
      ]
    },
    {
      "metadata": {
        "id": "uaWY7GOkWtaa",
        "colab_type": "text"
      },
      "cell_type": "markdown",
      "source": [
        "## 4. Optimize for 1 iteration (normally 100-300 iterations needed)\n",
        "- Each iteration takes ~30 secs on AWS p3.x2large (V100 GPU), therefore a proper optimization with 300 iterations would take ~2.5 hours and cost ~8$.\n",
        "\n",
        "    - AWS instance p3.x2large cost: 3.09$/h  "
      ]
    },
    {
      "metadata": {
        "id": "OMiMqKmMs4-9",
        "colab_type": "code",
        "outputId": "ffb5f2a2-43e5-4b9c-8562-6c8804288873",
        "colab": {
          "base_uri": "https://localhost:8080/",
          "height": 1499
        }
      },
      "cell_type": "code",
      "source": [
        "# number of iterations set to 2 (set it >=100 for a proper analysis)\n",
        "best_policies = deepaug.optimize(2)"
      ],
      "execution_count": 0,
      "outputs": [
        {
          "output_type": "stream",
          "text": [
            "trial: 1 \n",
            " ['gamma-contrast', 0.8442657485810175, 'coarse-salt-pepper', 0.8472517387841256, 'brighten', 0.38438170729269994, 'translate-y', 0.056712977317443194, 'translate-y', 0.47766511732135, 'add-to-hue-and-saturation', 0.47997717237505744, 'emboss', 0.8360787635373778, 'sharpen', 0.6481718720511973, 'emboss', 0.9571551589530466, 'rotate', 0.8700872583584366]\n",
            "load_pre_augment_weights()'s runtime:  0.0159 sec.\n",
            "Train on 12000 samples, validate on 1000 samples\n",
            "Epoch 1/2\n",
            " - 76s - loss: 2.2569 - acc: 0.1425 - val_loss: 2.4308 - val_acc: 0.1550\n",
            "Epoch 2/2\n",
            " - 76s - loss: 2.1583 - acc: 0.1928 - val_loss: 1.9824 - val_acc: 0.2570\n",
            "fit()'s runtime:  151.9835 sec.\n",
            "1, 0.794, ['gamma-contrast', 0.8442657485810175, 'coarse-salt-pepper', 0.8472517387841256, 'brighten', 0.38438170729269994, 'translate-y', 0.056712977317443194, 'translate-y', 0.47766511732135, 'add-to-hue-and-saturation', 0.47997717237505744, 'emboss', 0.8360787635373778, 'sharpen', 0.6481718720511973, 'emboss', 0.9571551589530466, 'rotate', 0.8700872583584366]\n",
            "trial: 2 \n",
            " ['dropout', 0.8009107519796445, 'coarse-dropout', 0.6788795301189604, 'fog', 0.5820197920751072, 'coarse-dropout', 0.7586156243223574, 'rotate', 0.47360041934665753, 'shear', 0.7369181771289582, 'translate-x', 0.13521817340545209, 'sharpen', 0.1496748671836832, 'translate-x', 0.38648898112586205, 'horizontal-flip', 0.4499499899112277]\n",
            "load_pre_augment_weights()'s runtime:  0.0141 sec.\n",
            "Train on 12000 samples, validate on 1000 samples\n",
            "Epoch 1/2\n",
            " - 77s - loss: 2.2391 - acc: 0.1563 - val_loss: 2.1138 - val_acc: 0.2220\n",
            "Epoch 2/2\n",
            " - 77s - loss: 2.0954 - acc: 0.2241 - val_loss: 2.1020 - val_acc: 0.2890\n",
            "fit()'s runtime:  153.4158 sec.\n",
            "2, 0.7445000002384186, ['dropout', 0.8009107519796445, 'coarse-dropout', 0.6788795301189604, 'fog', 0.5820197920751072, 'coarse-dropout', 0.7586156243223574, 'rotate', 0.47360041934665753, 'shear', 0.7369181771289582, 'translate-x', 0.13521817340545209, 'sharpen', 0.1496748671836832, 'translate-x', 0.38648898112586205, 'horizontal-flip', 0.4499499899112277]\n",
            "top-20 policies: 20\n",
            "   trial_no     A_aug1_type  A_aug1_magnitude         A_aug2_type  \\\n",
            "0         0          rotate             0.000              rotate   \n",
            "4         2         dropout             0.801      coarse-dropout   \n",
            "2         1  gamma-contrast             0.844  coarse-salt-pepper   \n",
            "\n",
            "   A_aug2_magnitude B_aug1_type  B_aug1_magnitude     B_aug2_type  \\\n",
            "0             0.000      rotate             0.000          rotate   \n",
            "4             0.679         fog             0.582  coarse-dropout   \n",
            "2             0.847    brighten             0.384     translate-y   \n",
            "\n",
            "   B_aug2_magnitude  C_aug1_type              ...               D_aug1_type  \\\n",
            "0             0.000       rotate              ...                    rotate   \n",
            "4             0.759       rotate              ...               translate-x   \n",
            "2             0.057  translate-y              ...                    emboss   \n",
            "\n",
            "  D_aug1_magnitude  D_aug2_type D_aug2_magnitude  E_aug1_type  \\\n",
            "0            0.000       rotate            0.000       rotate   \n",
            "4            0.135      sharpen            0.150  translate-x   \n",
            "2            0.836      sharpen            0.648       emboss   \n",
            "\n",
            "  E_aug1_magnitude      E_aug2_type E_aug2_magnitude  mean_late_val_acc  \\\n",
            "0            0.000           rotate             0.00              0.392   \n",
            "4            0.386  horizontal-flip             0.45              0.255   \n",
            "2            0.957           rotate             0.87              0.206   \n",
            "\n",
            "  expected_accuracy_increase(%)  \n",
            "0                           0.0  \n",
            "4                         -13.7  \n",
            "2                         -18.6  \n",
            "\n",
            "[3 rows x 23 columns]\n",
            "Top policies are saved to /usr/local/lib/python3.6/dist-packages/reports/experiments/03-07_00-28/top3_policies.csv\n",
            "\n",
            "top policies are:\n",
            "    trial_no     A_aug1_type  A_aug1_magnitude         A_aug2_type  \\\n",
            "0         0          rotate             0.000              rotate   \n",
            "4         2         dropout             0.801      coarse-dropout   \n",
            "2         1  gamma-contrast             0.844  coarse-salt-pepper   \n",
            "\n",
            "   A_aug2_magnitude B_aug1_type  B_aug1_magnitude     B_aug2_type  \\\n",
            "0             0.000      rotate             0.000          rotate   \n",
            "4             0.679         fog             0.582  coarse-dropout   \n",
            "2             0.847    brighten             0.384     translate-y   \n",
            "\n",
            "   B_aug2_magnitude  C_aug1_type              ...               D_aug1_type  \\\n",
            "0             0.000       rotate              ...                    rotate   \n",
            "4             0.759       rotate              ...               translate-x   \n",
            "2             0.057  translate-y              ...                    emboss   \n",
            "\n",
            "  D_aug1_magnitude  D_aug2_type D_aug2_magnitude  E_aug1_type  \\\n",
            "0            0.000       rotate            0.000       rotate   \n",
            "4            0.135      sharpen            0.150  translate-x   \n",
            "2            0.836      sharpen            0.648       emboss   \n",
            "\n",
            "  E_aug1_magnitude      E_aug2_type E_aug2_magnitude  mean_late_val_acc  \\\n",
            "0            0.000           rotate             0.00              0.392   \n",
            "4            0.386  horizontal-flip             0.45              0.255   \n",
            "2            0.957           rotate             0.87              0.206   \n",
            "\n",
            "  expected_accuracy_increase(%)  \n",
            "0                           0.0  \n",
            "4                         -13.7  \n",
            "2                         -18.6  \n",
            "\n",
            "[3 rows x 23 columns]\n"
          ],
          "name": "stdout"
        }
      ]
    },
    {
      "metadata": {
        "id": "omNsXx5hW0v-",
        "colab_type": "text"
      },
      "cell_type": "markdown",
      "source": [
        "## 5. See found best policies"
      ]
    },
    {
      "metadata": {
        "id": "U_R0keQDTEC6",
        "colab_type": "code",
        "outputId": "abac7fa4-6ecc-4482-a19b-adeed8a83a82",
        "colab": {
          "base_uri": "https://localhost:8080/",
          "height": 225
        }
      },
      "cell_type": "code",
      "source": [
        "best_policies"
      ],
      "execution_count": 0,
      "outputs": [
        {
          "output_type": "execute_result",
          "data": {
            "text/html": [
              "<div>\n",
              "<style scoped>\n",
              "    .dataframe tbody tr th:only-of-type {\n",
              "        vertical-align: middle;\n",
              "    }\n",
              "\n",
              "    .dataframe tbody tr th {\n",
              "        vertical-align: top;\n",
              "    }\n",
              "\n",
              "    .dataframe thead th {\n",
              "        text-align: right;\n",
              "    }\n",
              "</style>\n",
              "<table border=\"1\" class=\"dataframe\">\n",
              "  <thead>\n",
              "    <tr style=\"text-align: right;\">\n",
              "      <th></th>\n",
              "      <th>trial_no</th>\n",
              "      <th>A_aug1_type</th>\n",
              "      <th>A_aug1_magnitude</th>\n",
              "      <th>A_aug2_type</th>\n",
              "      <th>A_aug2_magnitude</th>\n",
              "      <th>B_aug1_type</th>\n",
              "      <th>B_aug1_magnitude</th>\n",
              "      <th>B_aug2_type</th>\n",
              "      <th>B_aug2_magnitude</th>\n",
              "      <th>C_aug1_type</th>\n",
              "      <th>...</th>\n",
              "      <th>D_aug1_type</th>\n",
              "      <th>D_aug1_magnitude</th>\n",
              "      <th>D_aug2_type</th>\n",
              "      <th>D_aug2_magnitude</th>\n",
              "      <th>E_aug1_type</th>\n",
              "      <th>E_aug1_magnitude</th>\n",
              "      <th>E_aug2_type</th>\n",
              "      <th>E_aug2_magnitude</th>\n",
              "      <th>mean_late_val_acc</th>\n",
              "      <th>expected_accuracy_increase(%)</th>\n",
              "    </tr>\n",
              "  </thead>\n",
              "  <tbody>\n",
              "    <tr>\n",
              "      <th>0</th>\n",
              "      <td>0</td>\n",
              "      <td>rotate</td>\n",
              "      <td>0.000</td>\n",
              "      <td>rotate</td>\n",
              "      <td>0.000</td>\n",
              "      <td>rotate</td>\n",
              "      <td>0.000</td>\n",
              "      <td>rotate</td>\n",
              "      <td>0.000</td>\n",
              "      <td>rotate</td>\n",
              "      <td>...</td>\n",
              "      <td>rotate</td>\n",
              "      <td>0.000</td>\n",
              "      <td>rotate</td>\n",
              "      <td>0.000</td>\n",
              "      <td>rotate</td>\n",
              "      <td>0.000</td>\n",
              "      <td>rotate</td>\n",
              "      <td>0.00</td>\n",
              "      <td>0.392</td>\n",
              "      <td>0.0</td>\n",
              "    </tr>\n",
              "    <tr>\n",
              "      <th>4</th>\n",
              "      <td>2</td>\n",
              "      <td>dropout</td>\n",
              "      <td>0.801</td>\n",
              "      <td>coarse-dropout</td>\n",
              "      <td>0.679</td>\n",
              "      <td>fog</td>\n",
              "      <td>0.582</td>\n",
              "      <td>coarse-dropout</td>\n",
              "      <td>0.759</td>\n",
              "      <td>rotate</td>\n",
              "      <td>...</td>\n",
              "      <td>translate-x</td>\n",
              "      <td>0.135</td>\n",
              "      <td>sharpen</td>\n",
              "      <td>0.150</td>\n",
              "      <td>translate-x</td>\n",
              "      <td>0.386</td>\n",
              "      <td>horizontal-flip</td>\n",
              "      <td>0.45</td>\n",
              "      <td>0.255</td>\n",
              "      <td>-13.7</td>\n",
              "    </tr>\n",
              "    <tr>\n",
              "      <th>2</th>\n",
              "      <td>1</td>\n",
              "      <td>gamma-contrast</td>\n",
              "      <td>0.844</td>\n",
              "      <td>coarse-salt-pepper</td>\n",
              "      <td>0.847</td>\n",
              "      <td>brighten</td>\n",
              "      <td>0.384</td>\n",
              "      <td>translate-y</td>\n",
              "      <td>0.057</td>\n",
              "      <td>translate-y</td>\n",
              "      <td>...</td>\n",
              "      <td>emboss</td>\n",
              "      <td>0.836</td>\n",
              "      <td>sharpen</td>\n",
              "      <td>0.648</td>\n",
              "      <td>emboss</td>\n",
              "      <td>0.957</td>\n",
              "      <td>rotate</td>\n",
              "      <td>0.87</td>\n",
              "      <td>0.206</td>\n",
              "      <td>-18.6</td>\n",
              "    </tr>\n",
              "  </tbody>\n",
              "</table>\n",
              "<p>3 rows × 23 columns</p>\n",
              "</div>"
            ],
            "text/plain": [
              "   trial_no     A_aug1_type  A_aug1_magnitude         A_aug2_type  \\\n",
              "0         0          rotate             0.000              rotate   \n",
              "4         2         dropout             0.801      coarse-dropout   \n",
              "2         1  gamma-contrast             0.844  coarse-salt-pepper   \n",
              "\n",
              "   A_aug2_magnitude B_aug1_type  B_aug1_magnitude     B_aug2_type  \\\n",
              "0             0.000      rotate             0.000          rotate   \n",
              "4             0.679         fog             0.582  coarse-dropout   \n",
              "2             0.847    brighten             0.384     translate-y   \n",
              "\n",
              "   B_aug2_magnitude  C_aug1_type              ...               D_aug1_type  \\\n",
              "0             0.000       rotate              ...                    rotate   \n",
              "4             0.759       rotate              ...               translate-x   \n",
              "2             0.057  translate-y              ...                    emboss   \n",
              "\n",
              "  D_aug1_magnitude  D_aug2_type D_aug2_magnitude  E_aug1_type  \\\n",
              "0            0.000       rotate            0.000       rotate   \n",
              "4            0.135      sharpen            0.150  translate-x   \n",
              "2            0.836      sharpen            0.648       emboss   \n",
              "\n",
              "  E_aug1_magnitude      E_aug2_type E_aug2_magnitude  mean_late_val_acc  \\\n",
              "0            0.000           rotate             0.00              0.392   \n",
              "4            0.386  horizontal-flip             0.45              0.255   \n",
              "2            0.957           rotate             0.87              0.206   \n",
              "\n",
              "  expected_accuracy_increase(%)  \n",
              "0                           0.0  \n",
              "4                         -13.7  \n",
              "2                         -18.6  \n",
              "\n",
              "[3 rows x 23 columns]"
            ]
          },
          "metadata": {
            "tags": []
          },
          "execution_count": 6
        }
      ]
    },
    {
      "metadata": {
        "id": "CtnoQzrnHvxt",
        "colab_type": "text"
      },
      "cell_type": "markdown",
      "source": [
        "## 6. Create Image Generator by found best policies"
      ]
    },
    {
      "metadata": {
        "id": "HYRVmnZdS-6A",
        "colab_type": "code",
        "colab": {}
      },
      "cell_type": "code",
      "source": [
        "import keras\n",
        "image_gen = deepaug.image_generator_with_top_policies(x_train, keras.utils.to_categorical(y_train))"
      ],
      "execution_count": 0,
      "outputs": []
    },
    {
      "metadata": {
        "id": "qv94oYBTIqIE",
        "colab_type": "text"
      },
      "cell_type": "markdown",
      "source": [
        "## 7. Use DeepAugmented images on your model\n",
        "\n",
        "Let's try  BasicCNN (Child CNN) model which can be created by modules in the package (assuming that your full model is same with BasicCNN). For a proper analysis use WideResNet-28-10, or better, your own model."
      ]
    },
    {
      "metadata": {
        "id": "3O1nLbh-Hzq7",
        "colab_type": "code",
        "outputId": "ed647cf9-3176-4031-c287-a950541608eb",
        "colab": {
          "base_uri": "https://localhost:8080/",
          "height": 799
        }
      },
      "cell_type": "code",
      "source": [
        "from deepaugment.childcnn import ChildCNN\n",
        "import logging\n",
        "\n",
        "cnn_config = {\"model\":\"basicCNN\", \"logging\":logging}\n",
        "full_model = ChildCNN(input_shape=x_train.shape[1:], num_classes=10, config=cnn_config)"
      ],
      "execution_count": 0,
      "outputs": [
        {
          "output_type": "stream",
          "text": [
            "BasicCNN model built as child model.\n",
            " Model summary:\n",
            "_________________________________________________________________\n",
            "Layer (type)                 Output Shape              Param #   \n",
            "=================================================================\n",
            "conv2d_5 (Conv2D)            (None, 32, 32, 32)        896       \n",
            "_________________________________________________________________\n",
            "activation_7 (Activation)    (None, 32, 32, 32)        0         \n",
            "_________________________________________________________________\n",
            "conv2d_6 (Conv2D)            (None, 30, 30, 32)        9248      \n",
            "_________________________________________________________________\n",
            "activation_8 (Activation)    (None, 30, 30, 32)        0         \n",
            "_________________________________________________________________\n",
            "max_pooling2d_3 (MaxPooling2 (None, 15, 15, 32)        0         \n",
            "_________________________________________________________________\n",
            "dropout_4 (Dropout)          (None, 15, 15, 32)        0         \n",
            "_________________________________________________________________\n",
            "conv2d_7 (Conv2D)            (None, 15, 15, 64)        18496     \n",
            "_________________________________________________________________\n",
            "activation_9 (Activation)    (None, 15, 15, 64)        0         \n",
            "_________________________________________________________________\n",
            "conv2d_8 (Conv2D)            (None, 13, 13, 64)        36928     \n",
            "_________________________________________________________________\n",
            "activation_10 (Activation)   (None, 13, 13, 64)        0         \n",
            "_________________________________________________________________\n",
            "max_pooling2d_4 (MaxPooling2 (None, 6, 6, 64)          0         \n",
            "_________________________________________________________________\n",
            "dropout_5 (Dropout)          (None, 6, 6, 64)          0         \n",
            "_________________________________________________________________\n",
            "flatten_2 (Flatten)          (None, 2304)              0         \n",
            "_________________________________________________________________\n",
            "dense_3 (Dense)              (None, 512)               1180160   \n",
            "_________________________________________________________________\n",
            "activation_11 (Activation)   (None, 512)               0         \n",
            "_________________________________________________________________\n",
            "dropout_6 (Dropout)          (None, 512)               0         \n",
            "_________________________________________________________________\n",
            "dense_4 (Dense)              (None, 10)                5130      \n",
            "_________________________________________________________________\n",
            "activation_12 (Activation)   (None, 10)                0         \n",
            "=================================================================\n",
            "Total params: 1,250,858\n",
            "Trainable params: 1,250,858\n",
            "Non-trainable params: 0\n",
            "_________________________________________________________________\n",
            "None\n"
          ],
          "name": "stdout"
        }
      ]
    },
    {
      "metadata": {
        "id": "_E9QMWkEH6mq",
        "colab_type": "code",
        "outputId": "4fd9639f-7926-4783-9d5e-6e51dd61fb84",
        "colab": {
          "base_uri": "https://localhost:8080/",
          "height": 105
        }
      },
      "cell_type": "code",
      "source": [
        "BATCH_SIZE = 64\n",
        "\n",
        "full_model.model.fit_generator(\n",
        "    image_gen,\n",
        "    validation_data=(x_test, keras.utils.to_categorical(y_test)),\n",
        "    steps_per_epoch=len(x_train) // BATCH_SIZE,\n",
        "    epochs=5,\n",
        "    shuffle=True,\n",
        "    verbose=2\n",
        ")"
      ],
      "execution_count": 0,
      "outputs": [
        {
          "output_type": "stream",
          "text": [
            "Epoch 1/5\n",
            "Policies are:\n",
            "[{'A_aug1_type': 'rotate', 'A_aug1_magnitude': 0.0, 'A_aug2_type': 'rotate', 'A_aug2_magnitude': 0.0, 'B_aug1_type': 'rotate', 'B_aug1_magnitude': 0.0, 'B_aug2_type': 'rotate', 'B_aug2_magnitude': 0.0, 'C_aug1_type': 'rotate', 'C_aug1_magnitude': 0.0, 'C_aug2_type': 'rotate', 'C_aug2_magnitude': 0.0, 'D_aug1_type': 'rotate', 'D_aug1_magnitude': 0.0, 'D_aug2_type': 'rotate', 'D_aug2_magnitude': 0.0, 'E_aug1_type': 'rotate', 'E_aug1_magnitude': 0.0, 'E_aug2_type': 'rotate', 'E_aug2_magnitude': 0.0}, {'A_aug1_type': 'dropout', 'A_aug1_magnitude': 0.801, 'A_aug2_type': 'coarse-dropout', 'A_aug2_magnitude': 0.679, 'B_aug1_type': 'fog', 'B_aug1_magnitude': 0.582, 'B_aug2_type': 'coarse-dropout', 'B_aug2_magnitude': 0.759, 'C_aug1_type': 'rotate', 'C_aug1_magnitude': 0.474, 'C_aug2_type': 'shear', 'C_aug2_magnitude': 0.737, 'D_aug1_type': 'translate-x', 'D_aug1_magnitude': 0.135, 'D_aug2_type': 'sharpen', 'D_aug2_magnitude': 0.15, 'E_aug1_type': 'translate-x', 'E_aug1_magnitude': 0.386, 'E_aug2_type': 'horizontal-flip', 'E_aug2_magnitude': 0.45}, {'A_aug1_type': 'gamma-contrast', 'A_aug1_magnitude': 0.844, 'A_aug2_type': 'coarse-salt-pepper', 'A_aug2_magnitude': 0.847, 'B_aug1_type': 'brighten', 'B_aug1_magnitude': 0.384, 'B_aug2_type': 'translate-y', 'B_aug2_magnitude': 0.057, 'C_aug1_type': 'translate-y', 'C_aug1_magnitude': 0.478, 'C_aug2_type': 'add-to-hue-and-saturation', 'C_aug2_magnitude': 0.48, 'D_aug1_type': 'emboss', 'D_aug1_magnitude': 0.836, 'D_aug2_type': 'sharpen', 'D_aug2_magnitude': 0.648, 'E_aug1_type': 'emboss', 'E_aug1_magnitude': 0.957, 'E_aug2_type': 'rotate', 'E_aug2_magnitude': 0.87}]\n",
            "\n"
          ],
          "name": "stdout"
        }
      ]
    },
    {
      "metadata": {
        "id": "Iwjv1Af_IH7o",
        "colab_type": "code",
        "colab": {}
      },
      "cell_type": "code",
      "source": [
        ""
      ],
      "execution_count": 0,
      "outputs": []
    }
  ]
}